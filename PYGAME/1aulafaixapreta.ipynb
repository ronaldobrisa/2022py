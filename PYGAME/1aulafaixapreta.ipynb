{
  "nbformat": 4,
  "nbformat_minor": 0,
  "metadata": {
    "colab": {
      "name": "1aulafaixapreta.ipynb",
      "provenance": [],
      "authorship_tag": "ABX9TyOsw3VZT1d6NsTTfXzhmay6",
      "include_colab_link": true
    },
    "kernelspec": {
      "name": "python3",
      "display_name": "Python 3"
    }
  },
  "cells": [
    {
      "cell_type": "markdown",
      "metadata": {
        "id": "view-in-github",
        "colab_type": "text"
      },
      "source": [
        "<a href=\"https://colab.research.google.com/github/ronaldobrisa/projetos-python/blob/master/1aulafaixapreta.ipynb\" target=\"_parent\"><img src=\"https://colab.research.google.com/assets/colab-badge.svg\" alt=\"Open In Colab\"/></a>"
      ]
    },
    {
      "cell_type": "code",
      "metadata": {
        "colab": {
          "base_uri": "https://localhost:8080/"
        },
        "id": "GB7jBpAx4XUm",
        "outputId": "12d3fbf7-26a1-4032-e5c5-78c2da4dff6c"
      },
      "source": [
        "ano = 2021\r\n",
        "while ano < 2030:\r\n",
        "  ano += 1\r\n",
        "  print(ano)"
      ],
      "execution_count": 14,
      "outputs": [
        {
          "output_type": "stream",
          "text": [
            "2022\n",
            "2023\n",
            "2024\n",
            "2025\n",
            "2026\n",
            "2027\n",
            "2028\n",
            "2029\n",
            "2030\n"
          ],
          "name": "stdout"
        }
      ]
    },
    {
      "cell_type": "code",
      "metadata": {
        "colab": {
          "base_uri": "https://localhost:8080/"
        },
        "id": "2eCNrkwu3RxI",
        "outputId": "9ac5b53e-3920-42a9-e2d8-d20a4a2c5c23"
      },
      "source": [
        "idade = 36\r\n",
        "nome_completo = 'Ronaldo Brisa Rodrigues'\r\n",
        "if idade == 36:\r\n",
        "  print(nome_completo) "
      ],
      "execution_count": 16,
      "outputs": [
        {
          "output_type": "stream",
          "text": [
            "Ronaldo Brisa Rodrigues\n"
          ],
          "name": "stdout"
        }
      ]
    },
    {
      "cell_type": "code",
      "metadata": {
        "colab": {
          "base_uri": "https://localhost:8080/"
        },
        "id": "fnRjKniPA6CZ",
        "outputId": "5c016f9f-bd7e-4d2e-da16-8d0d73b49af0"
      },
      "source": [
        "type(idade)\r\n",
        "type(nome_completo)"
      ],
      "execution_count": 18,
      "outputs": [
        {
          "output_type": "execute_result",
          "data": {
            "text/plain": [
              "str"
            ]
          },
          "metadata": {
            "tags": []
          },
          "execution_count": 18
        }
      ]
    },
    {
      "cell_type": "code",
      "metadata": {
        "colab": {
          "base_uri": "https://localhost:8080/"
        },
        "id": "wgaJ0PVXB1Nu",
        "outputId": "0d868f97-f4c6-49f9-e03c-b6589bf656b0"
      },
      "source": [
        "nome = input('Digite o nome completo: ')\r\n",
        "idade = int(input('Insira a sua idade: '))\r\n",
        "print('Obrigado pelas informações!')\r\n"
      ],
      "execution_count": 21,
      "outputs": [
        {
          "output_type": "stream",
          "text": [
            "Digite o nome completo: ronaldo brisa \n",
            "Insira a sua idade: 36\n",
            "Obrigado pelas informações!\n"
          ],
          "name": "stdout"
        }
      ]
    },
    {
      "cell_type": "code",
      "metadata": {
        "colab": {
          "base_uri": "https://localhost:8080/"
        },
        "id": "g-Bh4u-wEC4P",
        "outputId": "bbfc645f-fcec-4407-d37e-30791f3705d3"
      },
      "source": [
        "#entrada de numeros\r\n",
        "primeiro_numero = float(input('Insira o primeiro número: '))\r\n",
        "segundo_numero = float(input('Insira o segundo número: '))\r\n",
        "\r\n",
        "#calculo aritmeticos da calculadora\r\n",
        "soma = primeiro_numero + segundo_numero\r\n",
        "subtracao = primeiro_numero - segundo_numero\r\n",
        "multiplicacao = primeiro_numero * segundo_numero\r\n",
        "divisao = primeiro_numero / segundo_numero\r\n",
        "\r\n",
        "print(f'a soma entre {primeiro_numero} e {segundo_numero} é {soma}!')\r\n",
        "print(f'a subtracao entre {primeiro_numero} e {segundo_numero} é {subtracao}!')\r\n",
        "print(f'a multiplicação entre {primeiro_numero} e {segundo_numero} é {multiplicacao}!')\r\n",
        "print(f'a divisão entre {primeiro_numero} e {segundo_numero} é {divisao}!')\r\n"
      ],
      "execution_count": 22,
      "outputs": [
        {
          "output_type": "stream",
          "text": [
            "Insira o primeiro número: 25\n",
            "Insira o segundo número: 15\n",
            "a soma entre 25.0 e 15.0 é 40.0!\n",
            "a subtracao entre 25.0 e 15.0 é 10.0!\n",
            "a multiplicação entre 25.0 e 15.0 é 375.0!\n",
            "a divisão entre 25.0 e 15.0 é 1.6666666666666667!\n"
          ],
          "name": "stdout"
        }
      ]
    },
    {
      "cell_type": "code",
      "metadata": {
        "colab": {
          "base_uri": "https://localhost:8080/"
        },
        "id": "DiEkvs7HH-Xg",
        "outputId": "12024c80-8e60-4a47-b2b0-61e28082f0ef"
      },
      "source": [
        "#Listas são métodos de trabalhar com sequencia\r\n",
        "animais = ['cão','gato','coelho','passaro','furao']\r\n",
        "#posição     1      2       3         4       5\r\n",
        "#índice      0      1       2         3       4\r\n",
        "\r\n",
        "\r\n",
        "wiwi = animais[0]\r\n",
        "mel = animais[1]\r\n",
        "pernalonga = animais[2]\r\n",
        "fenix = animais[3]\r\n",
        "shura = animais[4]\r\n",
        "\r\n",
        "print('Meu animal é', animais[1])"
      ],
      "execution_count": 28,
      "outputs": [
        {
          "output_type": "stream",
          "text": [
            "Meu animal é gato\n"
          ],
          "name": "stdout"
        }
      ]
    },
    {
      "cell_type": "code",
      "metadata": {
        "colab": {
          "base_uri": "https://localhost:8080/"
        },
        "id": "iGY4ko73Oo0c",
        "outputId": "03b76a37-a787-4665-e06d-dc4634c3d2cd"
      },
      "source": [
        "print('Meu animal é', pernalonga)"
      ],
      "execution_count": 29,
      "outputs": [
        {
          "output_type": "stream",
          "text": [
            "Meu animal é coelho\n"
          ],
          "name": "stdout"
        }
      ]
    }
  ]
}